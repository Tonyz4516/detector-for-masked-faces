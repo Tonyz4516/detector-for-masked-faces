{
  "nbformat": 4,
  "nbformat_minor": 0,
  "metadata": {
    "colab": {
      "name": "how_to_use_extract_face.ipynb",
      "provenance": [],
      "collapsed_sections": [],
      "include_colab_link": true
    },
    "kernelspec": {
      "name": "python3",
      "display_name": "Python 3"
    }
  },
  "cells": [
    {
      "cell_type": "markdown",
      "metadata": {
        "id": "view-in-github",
        "colab_type": "text"
      },
      "source": [
        "<a href=\"https://colab.research.google.com/github/Tonyz4516/detector-for-masked-faces/blob/master/how_to_use_extract_face.ipynb\" target=\"_parent\"><img src=\"https://colab.research.google.com/assets/colab-badge.svg\" alt=\"Open In Colab\"/></a>"
      ]
    },
    {
      "cell_type": "markdown",
      "metadata": {
        "id": "nc5y-NA2aBe9"
      },
      "source": [
        "To use the extract_face.ipynb through terminal\n",
        "* go to the directory of extract_face\n",
        "* run code below:"
      ]
    },
    {
      "cell_type": "code",
      "metadata": {
        "id": "59HATJw3Z1Q8"
      },
      "source": [
        "!python extract_face.py --mafa_root \"/Users/shirley/Desktop/NEU/5500/data/MAFA\" --train_mat \"/Users/shirley/Desktop/NEU/5500/data/MAFA/LabelTrainAll.mat\" --export_dir \"/Users/shirley/Desktop/NEU/5500/data/MAFA/train_align\" --export_label_dir \"/Users/shirley/Desktop/NEU/5500/data/MAFA\""
      ],
      "execution_count": null,
      "outputs": []
    },
    {
      "cell_type": "markdown",
      "metadata": {
        "id": "IPCRgi7uZ-w0"
      },
      "source": [
        "* the mafa_root is where you save your MAFA data\n",
        "* change the train_mat/test_mat based on which dataset you are using"
      ]
    },
    {
      "cell_type": "markdown",
      "metadata": {
        "id": "6GlVj-m5cVpj"
      },
      "source": [
        "After runing the code, we will have four folders: human body, non_hb, not_correct, and correct saved under the directory train_align. To use any two pairs of the folders with FaceNet, one need to copy the folders under another directory that only have these two folders.\n",
        "* for example:\\\n",
        "train_correct/    \n",
        "&emsp;correct/    \n",
        "&emsp;not_correct/ \n"
      ]
    }
  ]
}